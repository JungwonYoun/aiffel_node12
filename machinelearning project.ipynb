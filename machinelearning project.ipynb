{
 "cells": [
  {
   "cell_type": "code",
   "execution_count": 1,
   "id": "5bf6431f",
   "metadata": {},
   "outputs": [],
   "source": [
    "# 라이브러리 \n",
    "import pandas as pd"
   ]
  },
  {
   "cell_type": "code",
   "execution_count": 44,
   "id": "648b5922",
   "metadata": {},
   "outputs": [],
   "source": [
    "# 데이터 불러오기\n",
    "train = pd.read_csv('/aiffel/data/train.csv')\n",
    "test = pd.read_csv('/aiffel/data/test.csv')"
   ]
  },
  {
   "cell_type": "code",
   "execution_count": 45,
   "id": "cd83ea46",
   "metadata": {},
   "outputs": [],
   "source": [
    "# 결측치 컬럼 삭제(last_review/reviews_per_month)\n",
    "\n",
    "# test\n",
    "test = test.drop('last_review', axis=1)\n",
    "test = test.drop('reviews_per_month', axis=1)\n",
    "# train\n",
    "train = train.drop('last_review', axis=1)\n",
    "train = train.drop('reviews_per_month', axis=1)"
   ]
  },
  {
   "cell_type": "code",
   "execution_count": 46,
   "id": "c77d3589",
   "metadata": {},
   "outputs": [],
   "source": [
    "import numpy as np\n",
    "price = np.log1p(train['price'])\n",
    "train = train.drop('price', axis=1)"
   ]
  },
  {
   "cell_type": "code",
   "execution_count": 47,
   "id": "b9afd2d8",
   "metadata": {
    "scrolled": true
   },
   "outputs": [
    {
     "data": {
      "text/html": [
       "<div>\n",
       "<style scoped>\n",
       "    .dataframe tbody tr th:only-of-type {\n",
       "        vertical-align: middle;\n",
       "    }\n",
       "\n",
       "    .dataframe tbody tr th {\n",
       "        vertical-align: top;\n",
       "    }\n",
       "\n",
       "    .dataframe thead th {\n",
       "        text-align: right;\n",
       "    }\n",
       "</style>\n",
       "<table border=\"1\" class=\"dataframe\">\n",
       "  <thead>\n",
       "    <tr style=\"text-align: right;\">\n",
       "      <th></th>\n",
       "      <th>host_id</th>\n",
       "      <th>neighbourhood_group</th>\n",
       "      <th>room_type</th>\n",
       "      <th>minimum_nights</th>\n",
       "      <th>number_of_reviews</th>\n",
       "      <th>calculated_host_listings_count</th>\n",
       "      <th>availability_365</th>\n",
       "    </tr>\n",
       "  </thead>\n",
       "  <tbody>\n",
       "    <tr>\n",
       "      <th>0</th>\n",
       "      <td>0.531436</td>\n",
       "      <td>0.25</td>\n",
       "      <td>0.5</td>\n",
       "      <td>0.002002</td>\n",
       "      <td>0.003350</td>\n",
       "      <td>0.000000</td>\n",
       "      <td>0.000000</td>\n",
       "    </tr>\n",
       "    <tr>\n",
       "      <th>1</th>\n",
       "      <td>0.205647</td>\n",
       "      <td>0.50</td>\n",
       "      <td>0.0</td>\n",
       "      <td>0.002002</td>\n",
       "      <td>0.266332</td>\n",
       "      <td>0.000000</td>\n",
       "      <td>0.668493</td>\n",
       "    </tr>\n",
       "    <tr>\n",
       "      <th>2</th>\n",
       "      <td>0.026292</td>\n",
       "      <td>0.25</td>\n",
       "      <td>0.0</td>\n",
       "      <td>0.000000</td>\n",
       "      <td>0.090452</td>\n",
       "      <td>0.009202</td>\n",
       "      <td>1.000000</td>\n",
       "    </tr>\n",
       "    <tr>\n",
       "      <th>3</th>\n",
       "      <td>0.100823</td>\n",
       "      <td>0.25</td>\n",
       "      <td>0.0</td>\n",
       "      <td>0.002002</td>\n",
       "      <td>0.003350</td>\n",
       "      <td>0.000000</td>\n",
       "      <td>0.000000</td>\n",
       "    </tr>\n",
       "    <tr>\n",
       "      <th>4</th>\n",
       "      <td>0.716164</td>\n",
       "      <td>0.50</td>\n",
       "      <td>0.0</td>\n",
       "      <td>0.000000</td>\n",
       "      <td>0.268007</td>\n",
       "      <td>0.006135</td>\n",
       "      <td>0.673973</td>\n",
       "    </tr>\n",
       "    <tr>\n",
       "      <th>...</th>\n",
       "      <td>...</td>\n",
       "      <td>...</td>\n",
       "      <td>...</td>\n",
       "      <td>...</td>\n",
       "      <td>...</td>\n",
       "      <td>...</td>\n",
       "      <td>...</td>\n",
       "    </tr>\n",
       "    <tr>\n",
       "      <th>9774</th>\n",
       "      <td>0.087906</td>\n",
       "      <td>0.25</td>\n",
       "      <td>0.0</td>\n",
       "      <td>0.001001</td>\n",
       "      <td>0.023451</td>\n",
       "      <td>0.000000</td>\n",
       "      <td>0.254795</td>\n",
       "    </tr>\n",
       "    <tr>\n",
       "      <th>9775</th>\n",
       "      <td>0.752172</td>\n",
       "      <td>0.25</td>\n",
       "      <td>0.5</td>\n",
       "      <td>0.001001</td>\n",
       "      <td>0.008375</td>\n",
       "      <td>0.003067</td>\n",
       "      <td>0.824658</td>\n",
       "    </tr>\n",
       "    <tr>\n",
       "      <th>9776</th>\n",
       "      <td>0.964449</td>\n",
       "      <td>0.75</td>\n",
       "      <td>0.5</td>\n",
       "      <td>0.000000</td>\n",
       "      <td>0.056951</td>\n",
       "      <td>0.000000</td>\n",
       "      <td>0.167123</td>\n",
       "    </tr>\n",
       "    <tr>\n",
       "      <th>9777</th>\n",
       "      <td>0.135802</td>\n",
       "      <td>0.50</td>\n",
       "      <td>0.5</td>\n",
       "      <td>0.000000</td>\n",
       "      <td>0.000000</td>\n",
       "      <td>0.000000</td>\n",
       "      <td>0.000000</td>\n",
       "    </tr>\n",
       "    <tr>\n",
       "      <th>9778</th>\n",
       "      <td>0.223937</td>\n",
       "      <td>0.25</td>\n",
       "      <td>0.5</td>\n",
       "      <td>0.000000</td>\n",
       "      <td>0.003350</td>\n",
       "      <td>0.000000</td>\n",
       "      <td>0.000000</td>\n",
       "    </tr>\n",
       "  </tbody>\n",
       "</table>\n",
       "<p>9779 rows × 7 columns</p>\n",
       "</div>"
      ],
      "text/plain": [
       "       host_id  neighbourhood_group  room_type  minimum_nights  \\\n",
       "0     0.531436                 0.25        0.5        0.002002   \n",
       "1     0.205647                 0.50        0.0        0.002002   \n",
       "2     0.026292                 0.25        0.0        0.000000   \n",
       "3     0.100823                 0.25        0.0        0.002002   \n",
       "4     0.716164                 0.50        0.0        0.000000   \n",
       "...        ...                  ...        ...             ...   \n",
       "9774  0.087906                 0.25        0.0        0.001001   \n",
       "9775  0.752172                 0.25        0.5        0.001001   \n",
       "9776  0.964449                 0.75        0.5        0.000000   \n",
       "9777  0.135802                 0.50        0.5        0.000000   \n",
       "9778  0.223937                 0.25        0.5        0.000000   \n",
       "\n",
       "      number_of_reviews  calculated_host_listings_count  availability_365  \n",
       "0              0.003350                        0.000000          0.000000  \n",
       "1              0.266332                        0.000000          0.668493  \n",
       "2              0.090452                        0.009202          1.000000  \n",
       "3              0.003350                        0.000000          0.000000  \n",
       "4              0.268007                        0.006135          0.673973  \n",
       "...                 ...                             ...               ...  \n",
       "9774           0.023451                        0.000000          0.254795  \n",
       "9775           0.008375                        0.003067          0.824658  \n",
       "9776           0.056951                        0.000000          0.167123  \n",
       "9777           0.000000                        0.000000          0.000000  \n",
       "9778           0.003350                        0.000000          0.000000  \n",
       "\n",
       "[9779 rows x 7 columns]"
      ]
     },
     "execution_count": 47,
     "metadata": {},
     "output_type": "execute_result"
    }
   ],
   "source": [
    "# 수치형 피처 선택\n",
    "train = train.drop(['id','name','neighbourhood','host_name','latitude','longitude'], axis=1)\n",
    "\n",
    "from sklearn.preprocessing import LabelEncoder\n",
    "cols = ['neighbourhood_group', 'host_id','room_type']\n",
    "for col in cols:\n",
    "    le = LabelEncoder()\n",
    "    train[col] = le.fit_transform(train[col])\n",
    "\n",
    "from sklearn.preprocessing import StandardScaler\n",
    "cols = ['neighbourhood_group', 'host_id','room_type', 'minimum_nights', 'number_of_reviews','calculated_host_listings_count','availability_365']\n",
    "scaler = StandardScaler()\n",
    "train[cols] = scaler.fit_transform(train[cols])\n",
    "\n",
    "from sklearn.preprocessing import MinMaxScaler\n",
    "cols = ['neighbourhood_group', 'host_id','room_type', 'minimum_nights', 'number_of_reviews','calculated_host_listings_count','availability_365']\n",
    "scaler = MinMaxScaler()\n",
    "train[cols] = scaler.fit_transform(train[cols])\n",
    "train\n",
    "\n",
    "test = test.drop(['id','name','neighbourhood','host_name','latitude','longitude'], axis=1)\n",
    "\n",
    "from sklearn.preprocessing import LabelEncoder\n",
    "cols = ['neighbourhood_group', 'host_id','room_type']\n",
    "for col in cols:\n",
    "    le = LabelEncoder()\n",
    "    test[col] = le.fit_transform(test[col])\n",
    "\n",
    "from sklearn.preprocessing import StandardScaler\n",
    "cols = ['neighbourhood_group', 'host_id','room_type', 'minimum_nights', 'number_of_reviews','calculated_host_listings_count','availability_365']\n",
    "scaler = StandardScaler()\n",
    "test[cols] = scaler.fit_transform(test[cols])\n",
    "\n",
    "from sklearn.preprocessing import MinMaxScaler\n",
    "cols = ['neighbourhood_group', 'host_id','room_type', 'minimum_nights', 'number_of_reviews','calculated_host_listings_count','availability_365']\n",
    "scaler = MinMaxScaler()\n",
    "test[cols] = scaler.fit_transform(test[cols])\n",
    "test"
   ]
  },
  {
   "cell_type": "code",
   "execution_count": 48,
   "id": "fe32f04e",
   "metadata": {},
   "outputs": [
    {
     "data": {
      "text/plain": [
       "((31292, 7), (7824, 7), (31292,), (7824,))"
      ]
     },
     "execution_count": 48,
     "metadata": {},
     "output_type": "execute_result"
    }
   ],
   "source": [
    "# 검증 데이터 분리\n",
    "# [[YOUR CODE]]\n",
    "from sklearn.model_selection import train_test_split\n",
    "X_train, X_test, y_train, y_test = train_test_split(\n",
    "    train, price, test_size=0.2, random_state=2003)\n",
    "\n",
    "# 분리된 데이터 확\n",
    "X_train.shape, X_test.shape, y_train.shape, y_test.shape\n"
   ]
  },
  {
   "cell_type": "code",
   "execution_count": 49,
   "id": "c7b07c82",
   "metadata": {},
   "outputs": [
    {
     "data": {
      "text/plain": [
       "0.31354958609687683"
      ]
     },
     "execution_count": 49,
     "metadata": {},
     "output_type": "execute_result"
    }
   ],
   "source": [
    "# 머신러닝(회귀)\n",
    "# [[YOUR CODE]]\n",
    "from sklearn.linear_model import LinearRegression\n",
    "from sklearn.metrics import mean_squared_error   # 회귀 모델 평가\n",
    "\n",
    "model = LinearRegression()\n",
    "model.fit(X_train, y_train)\n",
    "pred = model.predict(X_test)\n",
    "mean_squared_error(y_test, pred)"
   ]
  },
  {
   "cell_type": "code",
   "execution_count": 50,
   "id": "54fb7755",
   "metadata": {},
   "outputs": [
    {
     "name": "stdout",
     "output_type": "stream",
     "text": [
      "alpha value =  0.001 \n",
      " MSE: 0.3135496049081086\n",
      "alpha value =  0.01 \n",
      " MSE: 0.31354977527985844\n",
      "alpha value =  0.05 \n",
      " MSE: 0.3135505554825667\n",
      "alpha value =  0.1 \n",
      " MSE: 0.31355158209607165\n",
      "alpha value =  1 \n",
      " MSE: 0.3135775514583745\n",
      "alpha value =  10 \n",
      " MSE: 0.3139149333808526\n",
      "가장 작은 MSE: 0.3135496049081086\n"
     ]
    }
   ],
   "source": [
    "# 릿지 회귀\n",
    "# [[YOUR CODE]]\n",
    "from sklearn.linear_model import Ridge\n",
    "\n",
    "alphas = [0.001, 0.01, 0.05, 0.1, 1, 10]\n",
    "MSE = []\n",
    "\n",
    "for num in alphas:\n",
    "    model = Ridge(alpha = num)\n",
    "    model.fit(X_train, y_train)\n",
    "    pred = model.predict(X_test)\n",
    "    MSE.append(mean_squared_error(y_test, pred))\n",
    "    print('alpha value = ', num, '\\n MSE:', mean_squared_error(y_test, pred))\n",
    "\n",
    "print('가장 작은 MSE:', min(MSE))"
   ]
  },
  {
   "cell_type": "code",
   "execution_count": 51,
   "id": "32134edc",
   "metadata": {},
   "outputs": [
    {
     "name": "stdout",
     "output_type": "stream",
     "text": [
      "alpha value =  0.001 \n",
      " MSE: 0.3147725459723621\n",
      "alpha value =  0.01 \n",
      " MSE: 0.32081831710319764\n",
      "alpha value =  0.05 \n",
      " MSE: 0.3583927791120232\n",
      "alpha value =  0.1 \n",
      " MSE: 0.457709681146219\n",
      "alpha value =  1 \n",
      " MSE: 0.5028258889054896\n",
      "alpha value =  10 \n",
      " MSE: 0.5028258889054896\n",
      "가장 작은 MSE: 0.3147725459723621\n"
     ]
    }
   ],
   "source": [
    "# 라쏘 회귀\n",
    "# [[YOUR CODE]]\n",
    "\n",
    "from sklearn.linear_model import Lasso\n",
    "alphas = [0.001, 0.01, 0.05, 0.1, 1, 10]\n",
    "MSE = []\n",
    "\n",
    "for num in alphas:\n",
    "    model = Lasso(alpha = num)\n",
    "    model.fit(X_train, y_train)\n",
    "    pred = model.predict(X_test)\n",
    "    MSE.append(mean_squared_error(y_test, pred))\n",
    "    print('alpha value = ', num, '\\n MSE:', mean_squared_error(y_test, pred))\n",
    "\n",
    "print('가장 작은 MSE:', min(MSE))"
   ]
  },
  {
   "cell_type": "code",
   "execution_count": 52,
   "id": "fdb19881",
   "metadata": {},
   "outputs": [
    {
     "name": "stdout",
     "output_type": "stream",
     "text": [
      "L1 ratio =  0.1 \n",
      " MSE: 0.3136595482046608\n",
      "L1 ratio =  0.2 \n",
      " MSE: 0.313655247380917\n",
      "L1 ratio =  0.3 \n",
      " MSE: 0.31365081676141904\n",
      "L1 ratio =  0.4 \n",
      " MSE: 0.3136462463786436\n",
      "L1 ratio =  0.5 \n",
      " MSE: 0.3136415255652821\n",
      "L1 ratio =  0.6 \n",
      " MSE: 0.3136366429471888\n",
      "L1 ratio =  0.7 \n",
      " MSE: 0.3136315864597062\n",
      "L1 ratio =  0.8 \n",
      " MSE: 0.3136263434000166\n",
      "L1 ratio =  0.9 \n",
      " MSE: 0.3136209005341398\n",
      "가장 작은 MSE: 0.3136209005341398\n"
     ]
    }
   ],
   "source": [
    "# 엘라스틱넷 회귀\n",
    "# [[YOUR CODE]]\n",
    "from sklearn.linear_model import ElasticNet\n",
    "ratio = [0.1, 0.2, 0.3, 0.4, 0.5, 0.6, 0.7, 0.8, 0.9]\n",
    "MSE = []\n",
    "\n",
    "for num in ratio:\n",
    "    model = ElasticNet(alpha = 0.0001, l1_ratio = num)\n",
    "    model.fit(X_train, y_train)\n",
    "    pred = model.predict(X_test)\n",
    "    MSE.append(mean_squared_error(y_test, pred))\n",
    "    print('L1 ratio = ', num, '\\n MSE:', mean_squared_error(y_test, pred))\n",
    "\n",
    "print('가장 작은 MSE:', min(MSE))"
   ]
  },
  {
   "cell_type": "code",
   "execution_count": 53,
   "id": "926c454c",
   "metadata": {},
   "outputs": [
    {
     "data": {
      "text/plain": [
       "0.2546072081013353"
      ]
     },
     "execution_count": 53,
     "metadata": {},
     "output_type": "execute_result"
    }
   ],
   "source": [
    "# 랜덤포레스트\n",
    "# [[YOUR CODE]]\n",
    "from sklearn.ensemble import RandomForestRegressor\n",
    "model = RandomForestRegressor()\n",
    "model.fit(X_train, y_train)\n",
    "pred = model.predict(X_test)\n",
    "mean_squared_error(y_test, pred)"
   ]
  },
  {
   "cell_type": "code",
   "execution_count": 54,
   "id": "8dfcabe4",
   "metadata": {},
   "outputs": [
    {
     "data": {
      "text/plain": [
       "0.23539037924744302"
      ]
     },
     "execution_count": 54,
     "metadata": {},
     "output_type": "execute_result"
    }
   ],
   "source": [
    "# Xgboost\n",
    "# [[YOUR CODE]]\n",
    "from xgboost import XGBRegressor\n",
    "model = XGBRegressor()\n",
    "model.fit(X_train, y_train)\n",
    "pred = model.predict(X_test)\n",
    "mean_squared_error(y_test, pred)"
   ]
  },
  {
   "cell_type": "code",
   "execution_count": 55,
   "id": "8af63067",
   "metadata": {},
   "outputs": [
    {
     "data": {
      "text/plain": [
       "47133.130135802196"
      ]
     },
     "execution_count": 55,
     "metadata": {},
     "output_type": "execute_result"
    }
   ],
   "source": [
    "# test 데이터 예측 및 평가\n",
    "y_test = pd.read_csv('/aiffel/data/y_test.csv')\n",
    "y_test\n",
    "\n",
    "# Xgboost\n",
    "pred = model.predict(test)\n",
    "pred = np.expm1(pred)\n",
    "mean_squared_error(y_test, pred)"
   ]
  },
  {
   "cell_type": "code",
   "execution_count": null,
   "id": "8d1ea798",
   "metadata": {},
   "outputs": [],
   "source": []
  }
 ],
 "metadata": {
  "kernelspec": {
   "display_name": "Python 3 (ipykernel)",
   "language": "python",
   "name": "python3"
  },
  "language_info": {
   "codemirror_mode": {
    "name": "ipython",
    "version": 3
   },
   "file_extension": ".py",
   "mimetype": "text/x-python",
   "name": "python",
   "nbconvert_exporter": "python",
   "pygments_lexer": "ipython3",
   "version": "3.9.7"
  }
 },
 "nbformat": 4,
 "nbformat_minor": 5
}
